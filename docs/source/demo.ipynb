{
 "cells": [
  {
   "cell_type": "markdown",
   "id": "c4cd74db",
   "metadata": {},
   "source": [
    "# SearchQuery: Short demo and explanation"
   ]
  },
  {
   "cell_type": "code",
   "execution_count": null,
   "id": "7bb802b1",
   "metadata": {},
   "outputs": [],
   "source": [
    "!pip install git+https://github.com/CoLRev-Environment/search-query.git"
   ]
  },
  {
   "cell_type": "markdown",
   "id": "fb887d30",
   "metadata": {},
   "source": [
    "Text..."
   ]
  },
  {
   "cell_type": "code",
   "execution_count": 4,
   "id": "227d628f",
   "metadata": {},
   "outputs": [
    {
     "data": {
      "text/plain": [
       "'AND[OR[digital[Abstract], virtual[Abstract], online[Abstract]], OR[work[Abstract], labor[Abstract], service[Abstract]]]'"
      ]
     },
     "execution_count": 4,
     "metadata": {},
     "output_type": "execute_result"
    }
   ],
   "source": [
    "from search_query import OrQuery, AndQuery\n",
    "\n",
    "# Typical building-blocks approach\n",
    "digital_synonyms = OrQuery([\"digital\", \"virtual\", \"online\"], search_field=\"Abstract\")\n",
    "work_synonyms = OrQuery([\"work\", \"labor\", \"service\"], search_field=\"Abstract\")\n",
    "query = AndQuery([digital_synonyms, work_synonyms], search_field=\"Author Keywords\")\n",
    "query.to_string()"
   ]
  }
 ],
 "metadata": {
  "kernelspec": {
   "display_name": "Python 3 (ipykernel)",
   "language": "python",
   "name": "python3"
  },
  "language_info": {
   "codemirror_mode": {
    "name": "ipython",
    "version": 3
   },
   "file_extension": ".py",
   "mimetype": "text/x-python",
   "name": "python",
   "nbconvert_exporter": "python",
   "pygments_lexer": "ipython3",
   "version": "3.8.10"
  }
 },
 "nbformat": 4,
 "nbformat_minor": 5
}
